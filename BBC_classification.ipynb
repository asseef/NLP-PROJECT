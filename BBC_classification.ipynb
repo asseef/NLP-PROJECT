{
  "nbformat": 4,
  "nbformat_minor": 0,
  "metadata": {
    "accelerator": "GPU",
    "colab": {
      "name": "BBC classification.ipynb",
      "provenance": [],
      "collapsed_sections": []
    },
    "kernelspec": {
      "display_name": "Python 3",
      "language": "python",
      "name": "python3"
    },
    "language_info": {
      "codemirror_mode": {
        "name": "ipython",
        "version": 3
      },
      "file_extension": ".py",
      "mimetype": "text/x-python",
      "name": "python",
      "nbconvert_exporter": "python",
      "pygments_lexer": "ipython3",
      "version": "3.7.1"
    }
  },
  "cells": [
    {
      "cell_type": "code",
      "metadata": {
        "colab": {
          "base_uri": "https://localhost:8080/"
        },
        "id": "PYqVka5yXl24",
        "outputId": "286412a5-ba12-45a2-843d-371718ab11d7"
      },
      "source": [
        "import pandas as pd \n",
        "import numpy as np \n",
        "import seaborn as sns\n",
        "from sklearn.impute import SimpleImputer\n",
        "from sklearn.preprocessing import StandardScaler\n",
        "from sklearn.preprocessing import MinMaxScaler\n",
        "from sklearn.model_selection import cross_val_score\n",
        "from sklearn.ensemble import RandomForestClassifier\n",
        "from sklearn.model_selection import GridSearchCV\n",
        "from sklearn.metrics import accuracy_score\n",
        "from sklearn.linear_model import LogisticRegression\n",
        "from sklearn.metrics import accuracy_score, confusion_matrix\n",
        "from sklearn.metrics import classification_report\n",
        "from sklearn.model_selection import train_test_split\n",
        "\n",
        "!pip install contractions\n",
        "import contractions\n"
      ],
      "execution_count": 1,
      "outputs": [
        {
          "output_type": "stream",
          "name": "stdout",
          "text": [
            "Requirement already satisfied: contractions in /usr/local/lib/python3.7/dist-packages (0.0.55)\n",
            "Requirement already satisfied: textsearch>=0.0.21 in /usr/local/lib/python3.7/dist-packages (from contractions) (0.0.21)\n",
            "Requirement already satisfied: anyascii in /usr/local/lib/python3.7/dist-packages (from textsearch>=0.0.21->contractions) (0.3.0)\n",
            "Requirement already satisfied: pyahocorasick in /usr/local/lib/python3.7/dist-packages (from textsearch>=0.0.21->contractions) (1.4.2)\n"
          ]
        }
      ]
    },
    {
      "cell_type": "markdown",
      "metadata": {
        "id": "fcYwl4XQEPIT"
      },
      "source": [
        "**Chargement du fichier csv**"
      ]
    },
    {
      "cell_type": "code",
      "metadata": {
        "colab": {
          "resources": {
            "http://localhost:8080/nbextensions/google.colab/files.js": {
              "data": "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",
              "ok": true,
              "headers": [
                [
                  "content-type",
                  "application/javascript"
                ]
              ],
              "status": 200,
              "status_text": ""
            }
          },
          "base_uri": "https://localhost:8080/",
          "height": 72
        },
        "id": "nFV055g-YVXC",
        "outputId": "bd427139-79d0-4ce5-e278-a3608824f6fb"
      },
      "source": [
        "from google.colab import files\n",
        "uploaded = files.upload()"
      ],
      "execution_count": 2,
      "outputs": [
        {
          "output_type": "display_data",
          "data": {
            "text/html": [
              "\n",
              "     <input type=\"file\" id=\"files-e66232d1-73e0-4dfa-9e57-328b7178185b\" name=\"files[]\" multiple disabled\n",
              "        style=\"border:none\" />\n",
              "     <output id=\"result-e66232d1-73e0-4dfa-9e57-328b7178185b\">\n",
              "      Upload widget is only available when the cell has been executed in the\n",
              "      current browser session. Please rerun this cell to enable.\n",
              "      </output>\n",
              "      <script src=\"/nbextensions/google.colab/files.js\"></script> "
            ],
            "text/plain": [
              "<IPython.core.display.HTML object>"
            ]
          },
          "metadata": {}
        },
        {
          "output_type": "stream",
          "name": "stdout",
          "text": [
            "Saving bbc-text.csv to bbc-text (1).csv\n"
          ]
        }
      ]
    },
    {
      "cell_type": "code",
      "metadata": {
        "id": "etziURgYXl2_"
      },
      "source": [
        "import io\n",
        "df_train= pd.read_csv(io.BytesIO(uploaded['bbc-text.csv']),encoding=\"ISO-8859-1\")"
      ],
      "execution_count": 3,
      "outputs": []
    },
    {
      "cell_type": "markdown",
      "metadata": {
        "id": "537wWCxBEb3m"
      },
      "source": [
        "**Exploration des données**"
      ]
    },
    {
      "cell_type": "code",
      "metadata": {
        "colab": {
          "base_uri": "https://localhost:8080/",
          "height": 204
        },
        "id": "0BsIpG6yXl3A",
        "outputId": "f812dfea-f9b7-49cd-ba30-7361a446279b"
      },
      "source": [
        "df_train.head()"
      ],
      "execution_count": 4,
      "outputs": [
        {
          "output_type": "execute_result",
          "data": {
            "text/html": [
              "<div>\n",
              "<style scoped>\n",
              "    .dataframe tbody tr th:only-of-type {\n",
              "        vertical-align: middle;\n",
              "    }\n",
              "\n",
              "    .dataframe tbody tr th {\n",
              "        vertical-align: top;\n",
              "    }\n",
              "\n",
              "    .dataframe thead th {\n",
              "        text-align: right;\n",
              "    }\n",
              "</style>\n",
              "<table border=\"1\" class=\"dataframe\">\n",
              "  <thead>\n",
              "    <tr style=\"text-align: right;\">\n",
              "      <th></th>\n",
              "      <th>category</th>\n",
              "      <th>text</th>\n",
              "    </tr>\n",
              "  </thead>\n",
              "  <tbody>\n",
              "    <tr>\n",
              "      <th>0</th>\n",
              "      <td>tech</td>\n",
              "      <td>tv future in the hands of viewers with home th...</td>\n",
              "    </tr>\n",
              "    <tr>\n",
              "      <th>1</th>\n",
              "      <td>business</td>\n",
              "      <td>worldcom boss  left books alone  former worldc...</td>\n",
              "    </tr>\n",
              "    <tr>\n",
              "      <th>2</th>\n",
              "      <td>sport</td>\n",
              "      <td>tigers wary of farrell  gamble  leicester say ...</td>\n",
              "    </tr>\n",
              "    <tr>\n",
              "      <th>3</th>\n",
              "      <td>sport</td>\n",
              "      <td>yeading face newcastle in fa cup premiership s...</td>\n",
              "    </tr>\n",
              "    <tr>\n",
              "      <th>4</th>\n",
              "      <td>entertainment</td>\n",
              "      <td>ocean s twelve raids box office ocean s twelve...</td>\n",
              "    </tr>\n",
              "  </tbody>\n",
              "</table>\n",
              "</div>"
            ],
            "text/plain": [
              "        category                                               text\n",
              "0           tech  tv future in the hands of viewers with home th...\n",
              "1       business  worldcom boss  left books alone  former worldc...\n",
              "2          sport  tigers wary of farrell  gamble  leicester say ...\n",
              "3          sport  yeading face newcastle in fa cup premiership s...\n",
              "4  entertainment  ocean s twelve raids box office ocean s twelve..."
            ]
          },
          "metadata": {},
          "execution_count": 4
        }
      ]
    },
    {
      "cell_type": "code",
      "metadata": {
        "id": "znLGqT3_Xl3C"
      },
      "source": [
        "df_train[\"len\"]= df_train[\"text\"].apply(lambda x : len(x))"
      ],
      "execution_count": 5,
      "outputs": []
    },
    {
      "cell_type": "code",
      "metadata": {
        "colab": {
          "base_uri": "https://localhost:8080/"
        },
        "id": "uXXVVTkQyv6q",
        "outputId": "4d5ec5f6-246b-4407-b056-9b36fa9d0b2d"
      },
      "source": [
        "df_train[\"category\"].unique()"
      ],
      "execution_count": 6,
      "outputs": [
        {
          "output_type": "execute_result",
          "data": {
            "text/plain": [
              "array(['tech', 'business', 'sport', 'entertainment', 'politics'],\n",
              "      dtype=object)"
            ]
          },
          "metadata": {},
          "execution_count": 6
        }
      ]
    },
    {
      "cell_type": "code",
      "metadata": {
        "id": "GCum7Sqyy9WM"
      },
      "source": [
        "average_len_tech= df_train[df_train[\"category\"]==\"tech\"][\"len\"].mean()\n",
        "average_len_business= df_train[df_train[\"category\"]==\"business\"][\"len\"].mean()\n",
        "average_len_enter= df_train[df_train[\"category\"]==\"entertainment\"][\"len\"].mean()\n",
        "average_len_politics= df_train[df_train[\"category\"]==\"politics\"][\"len\"].mean()\n",
        "average_len_sport= df_train[df_train[\"category\"]==\"sport\"][\"len\"].mean()"
      ],
      "execution_count": 7,
      "outputs": []
    },
    {
      "cell_type": "code",
      "metadata": {
        "colab": {
          "base_uri": "https://localhost:8080/"
        },
        "id": "emxeAFbpXl3E",
        "outputId": "69a2da55-dd7e-4df6-a788-ddfaf118ef17"
      },
      "source": [
        "print(\"average len of positive tech\", average_len_tech)\n",
        "print(\"average len of negative business\", average_len_business)\n",
        "print(\"average len of positive sport\", average_len_enter)\n",
        "print(\"average len of positive sport\", average_len_politics)\n",
        "print(\"average len of positive sport\", average_len_sport)\n"
      ],
      "execution_count": 8,
      "outputs": [
        {
          "output_type": "stream",
          "name": "stdout",
          "text": [
            "average len of positive tech 2974.633416458853\n",
            "average len of negative business 1985.5549019607843\n",
            "average len of positive sport 1927.2020725388602\n",
            "average len of positive sport 2682.7410071942445\n",
            "average len of positive sport 1895.0528375733854\n"
          ]
        }
      ]
    },
    {
      "cell_type": "code",
      "metadata": {
        "colab": {
          "base_uri": "https://localhost:8080/",
          "height": 296
        },
        "id": "7RpRDx8WErno",
        "outputId": "0c3efeae-20bb-47f5-96d7-a366af33a304"
      },
      "source": [
        "sns.countplot(x=\"category\",data=df_train)"
      ],
      "execution_count": 9,
      "outputs": [
        {
          "output_type": "execute_result",
          "data": {
            "text/plain": [
              "<matplotlib.axes._subplots.AxesSubplot at 0x7f3aae357590>"
            ]
          },
          "metadata": {},
          "execution_count": 9
        },
        {
          "output_type": "display_data",
          "data": {
            "image/png": "[encoded data removed]",
            "text/plain": [
              "<Figure size 432x288 with 1 Axes>"
            ]
          },
          "metadata": {
            "needs_background": "light"
          }
        }
      ]
    },
    {
      "cell_type": "markdown",
      "metadata": {
        "id": "U6rA3nUUE73m"
      },
      "source": [
        "**Pretraitement des données**"
      ]
    },
    {
      "cell_type": "code",
      "metadata": {
        "id": "xIFB-dAPD2gn"
      },
      "source": [
        "from sklearn.preprocessing import LabelEncoder\n",
        "encoder = LabelEncoder()\n",
        "df_train[\"category\"] = encoder.fit_transform(df_train[\"category\"])"
      ],
      "execution_count": 10,
      "outputs": []
    },
    {
      "cell_type": "code",
      "metadata": {
        "id": "WmXqx1EdnGo9"
      },
      "source": [
        "df_train=df_train[[\"category\",\"text\"]]"
      ],
      "execution_count": 11,
      "outputs": []
    },
    {
      "cell_type": "code",
      "metadata": {
        "id": "-IVzG4t06Ewf"
      },
      "source": [
        "#delete duplicates\n",
        "df_train.dropna(inplace=True)"
      ],
      "execution_count": 12,
      "outputs": []
    },
    {
      "cell_type": "code",
      "metadata": {
        "id": "bBcckyppXl3F"
      },
      "source": [
        "import re\n",
        "df_train[\"text\"]=df_train[\"text\"].apply(lambda x: x.lower())\n",
        "df_train[\"text\"]=df_train[\"text\"].apply(lambda x: contractions.fix(x))\n",
        "df_train[\"text\"]=df_train[\"text\"].apply(lambda x: re.sub('(https?:\\/\\/)?([\\da-z\\.-]+)\\.([a-z\\.]{2,6})([\\/\\w \\.-]*)',' ', x))"
      ],
      "execution_count": 13,
      "outputs": []
    },
    {
      "cell_type": "code",
      "metadata": {
        "colab": {
          "base_uri": "https://localhost:8080/"
        },
        "id": "WfAK3dspXl3I",
        "outputId": "b9738366-1e4c-4cdc-95ff-2a2df80c109a"
      },
      "source": [
        "import nltk\n",
        "nltk.download('wordnet')\n",
        "\n",
        "def stemming(corpus):\n",
        "    \n",
        "    corpus_=\"\"\n",
        "    \n",
        "    ps = nltk.stem.porter.PorterStemmer()\n",
        "    for mot in corpus.split():\n",
        "        corpus_=corpus_ + \" \" + ps.stem(mot) + \" \"\n",
        "        \n",
        "    return corpus_\n",
        "\n",
        "def lemmatisation(corpus):\n",
        "    corpus_=\"\"\n",
        "    lem = nltk.stem.wordnet.WordNetLemmatizer()\n",
        "    for mot in corpus.split():\n",
        "        corpus_=corpus_ + \" \" + lem.lemmatize(mot) + \" \"\n",
        "    return corpus_"
      ],
      "execution_count": 14,
      "outputs": [
        {
          "output_type": "stream",
          "name": "stdout",
          "text": [
            "[nltk_data] Downloading package wordnet to /root/nltk_data...\n",
            "[nltk_data]   Package wordnet is already up-to-date!\n"
          ]
        }
      ]
    },
    {
      "cell_type": "code",
      "metadata": {
        "id": "2sXqY0tWXl3J"
      },
      "source": [
        "import nltk \n",
        "from nltk.corpus import stopwords\n",
        "\n",
        "def remove_stopwords(corpus):\n",
        "    corpus_=\"\"\n",
        "    for mot in corpus.split():\n",
        "        if mot not in stopwords.words('english'):\n",
        "            corpus_=corpus_ + \" \" + mot\n",
        "        else:\n",
        "            corpus_=corpus_ + \" \"\n",
        "    return corpus_\n"
      ],
      "execution_count": 15,
      "outputs": []
    },
    {
      "cell_type": "code",
      "metadata": {
        "id": "FuP-b7zDXl3K"
      },
      "source": [
        "df_train[\"text\"]=df_train[\"text\"].apply(lambda x: stemming(x))\n",
        "df_train[\"text\"]=df_train[\"text\"].apply(lambda x: lemmatisation(x))"
      ],
      "execution_count": 16,
      "outputs": []
    },
    {
      "cell_type": "code",
      "metadata": {
        "colab": {
          "base_uri": "https://localhost:8080/"
        },
        "id": "65OwCYEkXl3K",
        "outputId": "4f363af0-3261-46de-89e6-54ddf7340954"
      },
      "source": [
        "import nltk\n",
        "nltk.download('stopwords')\n",
        "  \n",
        "df_train[\"text\"]=df_train[\"text\"].apply(lambda x: remove_stopwords(x))"
      ],
      "execution_count": 17,
      "outputs": [
        {
          "output_type": "stream",
          "name": "stdout",
          "text": [
            "[nltk_data] Downloading package stopwords to /root/nltk_data...\n",
            "[nltk_data]   Package stopwords is already up-to-date!\n"
          ]
        }
      ]
    },
    {
      "cell_type": "code",
      "metadata": {
        "id": "3GrtblHqXl3L"
      },
      "source": [
        "from sklearn.feature_extraction.text import TfidfVectorizer\n",
        "\n",
        "#tokenization \n",
        "vectorizer=TfidfVectorizer(max_features=5000,stop_words='english')\n",
        "X=vectorizer.fit_transform(df_train[\"text\"])\n",
        "Y=df_train[\"category\"]"
      ],
      "execution_count": 18,
      "outputs": []
    },
    {
      "cell_type": "markdown",
      "metadata": {
        "id": "TXX7UaojFfxq"
      },
      "source": [
        "**Modélisation avec Sklearn**"
      ]
    },
    {
      "cell_type": "code",
      "metadata": {
        "colab": {
          "base_uri": "https://localhost:8080/"
        },
        "id": "R22CuafDXl3N",
        "outputId": "b4e1c3bc-4348-4cb3-d7f4-b34e26721bfb"
      },
      "source": [
        "X_train, X_test, y_train, y_test = train_test_split(X,Y, test_size = 0.20, random_state = 42)\n",
        "print(X_train.shape,y_train.shape)\n",
        "print(X_test.shape,y_test.shape)"
      ],
      "execution_count": 19,
      "outputs": [
        {
          "output_type": "stream",
          "name": "stdout",
          "text": [
            "(1780, 5000) (1780,)\n",
            "(445, 5000) (445,)\n"
          ]
        }
      ]
    },
    {
      "cell_type": "code",
      "metadata": {
        "colab": {
          "base_uri": "https://localhost:8080/"
        },
        "id": "ac27Or-1Xl3O",
        "outputId": "8ac980bb-98ca-4de7-8999-8820b51eed8d"
      },
      "source": [
        "lg=LogisticRegression()\n",
        "lg.fit(X_train,y_train)\n",
        "y_pred=lg.predict(X_test)\n",
        "print('accuracy %s' % accuracy_score(y_pred,y_test))\n",
        "print(classification_report(y_test, y_pred))\n",
        "print('Confusion Matrix: \\n',confusion_matrix(y_test,y_pred))"
      ],
      "execution_count": 20,
      "outputs": [
        {
          "output_type": "stream",
          "name": "stdout",
          "text": [
            "accuracy 0.9662921348314607\n",
            "              precision    recall  f1-score   support\n",
            "\n",
            "           0       0.96      0.93      0.94       101\n",
            "           1       1.00      0.96      0.98        81\n",
            "           2       0.93      0.98      0.95        83\n",
            "           3       0.97      1.00      0.98        98\n",
            "           4       0.98      0.96      0.97        82\n",
            "\n",
            "    accuracy                           0.97       445\n",
            "   macro avg       0.97      0.97      0.97       445\n",
            "weighted avg       0.97      0.97      0.97       445\n",
            "\n",
            "Confusion Matrix: \n",
            " [[94  0  5  1  1]\n",
            " [ 1 78  1  0  1]\n",
            " [ 2  0 81  0  0]\n",
            " [ 0  0  0 98  0]\n",
            " [ 1  0  0  2 79]]\n"
          ]
        }
      ]
    },
    {
      "cell_type": "code",
      "metadata": {
        "colab": {
          "base_uri": "https://localhost:8080/"
        },
        "id": "AgOrf0d7Hr_Q",
        "outputId": "dd8ce831-d55c-40ba-d895-25cc685bacc0"
      },
      "source": [
        "from sklearn.naive_bayes import MultinomialNB\n",
        "MB=MultinomialNB()\n",
        "MB.fit(X_train,y_train)\n",
        "y_pred=MB.predict(X_test)\n",
        "print('accuracy %s' % accuracy_score(y_pred,y_test))\n",
        "print(classification_report(y_test, y_pred))\n",
        "print('Confusion Matrix: \\n',confusion_matrix(y_test,y_pred))"
      ],
      "execution_count": 21,
      "outputs": [
        {
          "output_type": "stream",
          "name": "stdout",
          "text": [
            "accuracy 0.9640449438202248\n",
            "              precision    recall  f1-score   support\n",
            "\n",
            "           0       0.96      0.94      0.95       101\n",
            "           1       1.00      0.93      0.96        81\n",
            "           2       0.92      0.98      0.95        83\n",
            "           3       0.97      1.00      0.98        98\n",
            "           4       0.98      0.98      0.98        82\n",
            "\n",
            "    accuracy                           0.96       445\n",
            "   macro avg       0.97      0.96      0.96       445\n",
            "weighted avg       0.96      0.96      0.96       445\n",
            "\n",
            "Confusion Matrix: \n",
            " [[95  0  5  1  0]\n",
            " [ 2 75  2  0  2]\n",
            " [ 2  0 81  0  0]\n",
            " [ 0  0  0 98  0]\n",
            " [ 0  0  0  2 80]]\n"
          ]
        }
      ]
    },
    {
      "cell_type": "markdown",
      "metadata": {
        "id": "TNYd1zf5F32y"
      },
      "source": [
        "**Modélisation avec Keras**"
      ]
    },
    {
      "cell_type": "code",
      "metadata": {
        "id": "RU13QaZnU-Uy"
      },
      "source": [
        "from keras.preprocessing.text import Tokenizer\n",
        "from keras.preprocessing.sequence import pad_sequences\n",
        "\n",
        "max_features = 5000\n",
        "trunc_type = 'post'\n",
        "padding_type = 'post'\n",
        "tokenizer = Tokenizer(num_words=max_features,oov_token=\"<OOV>\")\n",
        "tokenizer.fit_on_texts(df_train['text'])\n",
        "list_tokenized_train = tokenizer.texts_to_sequences(df_train['text'])\n",
        "\n",
        "maxlen = 128\n",
        "X = pad_sequences(list_tokenized_train, maxlen=maxlen,truncating=trunc_type,padding=\"post\")\n",
        "Y = df_train['category']"
      ],
      "execution_count": 22,
      "outputs": []
    },
    {
      "cell_type": "code",
      "metadata": {
        "colab": {
          "base_uri": "https://localhost:8080/"
        },
        "id": "prlks7TpVMHv",
        "outputId": "85fc102c-800b-4d06-ea8a-0d6e2cd18f1e"
      },
      "source": [
        "X_train, X_test, y_train, y_test = train_test_split(X,Y, test_size = 0.20, random_state = 42)\n",
        "print(X_train.shape,y_train.shape)\n",
        "print(X_test.shape,y_test.shape)"
      ],
      "execution_count": 23,
      "outputs": [
        {
          "output_type": "stream",
          "name": "stdout",
          "text": [
            "(1780, 128) (1780,)\n",
            "(445, 128) (445,)\n"
          ]
        }
      ]
    },
    {
      "cell_type": "code",
      "metadata": {
        "colab": {
          "base_uri": "https://localhost:8080/"
        },
        "id": "MUZsBXd0Xl3O",
        "outputId": "f7bd1aaa-0522-40b3-94a9-89f9653d75f6"
      },
      "source": [
        "from keras.models import Sequential\n",
        "from keras.layers import Dense, Embedding, LSTM, SpatialDropout1D,Bidirectional,GlobalMaxPool1D,Dropout\n",
        "from sklearn.model_selection import train_test_split\n",
        "from keras.utils.np_utils import to_categorical\n",
        "from keras.callbacks import EarlyStopping\n",
        "from keras.layers import Dropout\n",
        "\n",
        "model = Sequential()\n",
        "model.add(Embedding(5000, 128))\n",
        "model.add(Dropout(0.5))\n",
        "model.add(Bidirectional(LSTM(128,dropout=0.5,recurrent_dropout=0.5,return_sequences=True)))\n",
        "model.add(Dropout(0.5))\n",
        "model.add(Bidirectional(LSTM(64,dropout=0.5,recurrent_dropout=0.5)))\n",
        "model.add(Dropout(0.2))\n",
        "model.add(Dense(5, activation='softmax'))\n",
        "model.compile(loss='sparse_categorical_crossentropy', optimizer='adam', metrics=['accuracy'])\n",
        "print(model.summary())"
      ],
      "execution_count": 24,
      "outputs": [
        {
          "output_type": "stream",
          "name": "stdout",
          "text": [
            "WARNING:tensorflow:Layer lstm will not use cuDNN kernels since it doesn't meet the criteria. It will use a generic GPU kernel as fallback when running on GPU.\n",
            "WARNING:tensorflow:Layer lstm will not use cuDNN kernels since it doesn't meet the criteria. It will use a generic GPU kernel as fallback when running on GPU.\n",
            "WARNING:tensorflow:Layer lstm will not use cuDNN kernels since it doesn't meet the criteria. It will use a generic GPU kernel as fallback when running on GPU.\n",
            "WARNING:tensorflow:Layer lstm_1 will not use cuDNN kernels since it doesn't meet the criteria. It will use a generic GPU kernel as fallback when running on GPU.\n",
            "WARNING:tensorflow:Layer lstm_1 will not use cuDNN kernels since it doesn't meet the criteria. It will use a generic GPU kernel as fallback when running on GPU.\n",
            "WARNING:tensorflow:Layer lstm_1 will not use cuDNN kernels since it doesn't meet the criteria. It will use a generic GPU kernel as fallback when running on GPU.\n",
            "Model: \"sequential\"\n",
            "_________________________________________________________________\n",
            " Layer (type)                Output Shape              Param #   \n",
            "=================================================================\n",
            " embedding (Embedding)       (None, None, 128)         640000    \n",
            "                                                                 \n",
            " dropout (Dropout)           (None, None, 128)         0         \n",
            "                                                                 \n",
            " bidirectional (Bidirectiona  (None, None, 256)        263168    \n",
            " l)                                                              \n",
            "                                                                 \n",
            " dropout_1 (Dropout)         (None, None, 256)         0         \n",
            "                                                                 \n",
            " bidirectional_1 (Bidirectio  (None, 128)              164352    \n",
            " nal)                                                            \n",
            "                                                                 \n",
            " dropout_2 (Dropout)         (None, 128)               0         \n",
            "                                                                 \n",
            " dense (Dense)               (None, 5)                 645       \n",
            "                                                                 \n",
            "=================================================================\n",
            "Total params: 1,068,165\n",
            "Trainable params: 1,068,165\n",
            "Non-trainable params: 0\n",
            "_________________________________________________________________\n",
            "None\n"
          ]
        }
      ]
    },
    {
      "cell_type": "code",
      "metadata": {
        "colab": {
          "base_uri": "https://localhost:8080/"
        },
        "id": "wp_bu2zJXl3P",
        "outputId": "23d0571c-2734-4d87-bff3-6b4a273cd368"
      },
      "source": [
        "epochs = 10\n",
        "batch_size = 64\n",
        "\n",
        "history = model.fit(X_train, y_train, epochs=epochs, batch_size=batch_size,validation_split=0.2,callbacks=[EarlyStopping(monitor='val_loss', patience=3, min_delta=0.0001)])"
      ],
      "execution_count": 25,
      "outputs": [
        {
          "output_type": "stream",
          "name": "stdout",
          "text": [
            "Epoch 1/10\n",
            "23/23 [==============================] - 99s 4s/step - loss: 1.5855 - accuracy: 0.2725 - val_loss: 1.5166 - val_accuracy: 0.2837\n",
            "Epoch 2/10\n",
            "23/23 [==============================] - 86s 4s/step - loss: 1.0957 - accuracy: 0.5639 - val_loss: 0.6892 - val_accuracy: 0.7388\n",
            "Epoch 3/10\n",
            "23/23 [==============================] - 86s 4s/step - loss: 0.6309 - accuracy: 0.7704 - val_loss: 0.4179 - val_accuracy: 0.8764\n",
            "Epoch 4/10\n",
            "23/23 [==============================] - 86s 4s/step - loss: 0.3093 - accuracy: 0.9192 - val_loss: 0.2238 - val_accuracy: 0.9410\n",
            "Epoch 5/10\n",
            "23/23 [==============================] - 85s 4s/step - loss: 0.1806 - accuracy: 0.9544 - val_loss: 0.2926 - val_accuracy: 0.9213\n",
            "Epoch 6/10\n",
            "23/23 [==============================] - 85s 4s/step - loss: 0.1168 - accuracy: 0.9733 - val_loss: 0.2372 - val_accuracy: 0.9157\n",
            "Epoch 7/10\n",
            "23/23 [==============================] - 85s 4s/step - loss: 0.1097 - accuracy: 0.9670 - val_loss: 0.1571 - val_accuracy: 0.9522\n",
            "Epoch 8/10\n",
            "23/23 [==============================] - 87s 4s/step - loss: 0.0492 - accuracy: 0.9860 - val_loss: 0.1666 - val_accuracy: 0.9522\n",
            "Epoch 9/10\n",
            "23/23 [==============================] - 87s 4s/step - loss: 0.0424 - accuracy: 0.9916 - val_loss: 0.1435 - val_accuracy: 0.9607\n",
            "Epoch 10/10\n",
            "23/23 [==============================] - 87s 4s/step - loss: 0.0328 - accuracy: 0.9923 - val_loss: 0.1533 - val_accuracy: 0.9494\n"
          ]
        }
      ]
    },
    {
      "cell_type": "code",
      "metadata": {
        "colab": {
          "base_uri": "https://localhost:8080/"
        },
        "id": "Kt5sLseJXl3Q",
        "outputId": "7f4b37ea-cc4e-4928-8217-9ce041a110d5"
      },
      "source": [
        "model.evaluate(X_test,y_test)"
      ],
      "execution_count": 26,
      "outputs": [
        {
          "output_type": "stream",
          "name": "stdout",
          "text": [
            "14/14 [==============================] - 3s 195ms/step - loss: 0.2458 - accuracy: 0.9326\n"
          ]
        },
        {
          "output_type": "execute_result",
          "data": {
            "text/plain": [
              "[0.2458040565252304, 0.932584285736084]"
            ]
          },
          "metadata": {},
          "execution_count": 26
        }
      ]
    },
    {
      "cell_type": "markdown",
      "metadata": {
        "id": "p8MpduoeGC53"
      },
      "source": [
        "**Visualisations**"
      ]
    },
    {
      "cell_type": "code",
      "metadata": {
        "id": "KcwxY8Ar0H5w"
      },
      "source": [
        "import matplotlib.pyplot as plt\n",
        "\n",
        "def plot_loss_and_accuracy(history):\n",
        "    \n",
        "    \"\"\"\n",
        "    \n",
        "    Plot loss and accuracy in order to see if we observe an overfitting\n",
        "    \n",
        "    \"\"\"\n",
        "    figure = plt.figure(figsize=(10,10))\n",
        "\n",
        "    # accuracy\n",
        "    plt.subplot(221)\n",
        "    plt.plot(history.history['accuracy'],'go--', label = \"acc\")\n",
        "    plt.plot(history.history['val_accuracy'], 'yo--', label = \"val acc\")\n",
        "    \n",
        "    plt.title(\"train_acc vs val_acc\")\n",
        "    \n",
        "   \n",
        "    #names axis\n",
        "    plt.xlabel(\"epcs\")\n",
        "    plt.ylabel(\"acc\")\n",
        "    plt.legend()\n",
        "\n",
        "    # loss\n",
        "    plt.subplot(222)\n",
        "    plt.plot(history.history['loss'],'go--', label = \"loss\")\n",
        "    plt.plot(history.history['val_loss'], 'yo--', label = \"val_loss\")\n",
        "    \n",
        "    plt.title(\"train_loss vs val_loss\")\n",
        "    \n",
        "    #names axis\n",
        "    plt.ylabel(\"loss\")\n",
        "    plt.xlabel(\"epcs\")\n",
        "\n",
        "    plt.legend()\n",
        "    plt.show()\n",
        "    "
      ],
      "execution_count": 27,
      "outputs": []
    },
    {
      "cell_type": "code",
      "metadata": {
        "colab": {
          "base_uri": "https://localhost:8080/",
          "height": 325
        },
        "id": "cbBLpUHE0_Z2",
        "outputId": "f671f970-658f-476a-f495-8ab3898be070"
      },
      "source": [
        "plot_loss_and_accuracy(history)\n",
        "\n",
        "#slight overfit"
      ],
      "execution_count": 28,
      "outputs": [
        {
          "output_type": "display_data",
          "data": {
            "image/png": "[encoded data removed]",
            "text/plain": [
              "<Figure size 720x720 with 2 Axes>"
            ]
          },
          "metadata": {
            "needs_background": "light"
          }
        }
      ]
    },
    {
      "cell_type": "markdown",
      "metadata": {
        "id": "zXgmtWAsGSEj"
      },
      "source": [
        "**Tests sur des articles inconnus**"
      ]
    },
    {
      "cell_type": "code",
      "metadata": {
        "id": "I_BvreGm8S22"
      },
      "source": [
        "txt1=\"The collaboration uses artificial intelligence to map the site, and augmented reality to help restore the original home of the Olympic Games.It will allow viewers to explore the area as it stood more than 2,000 years ago.Microsoft has ambitions to rival Facebook with its own plans for the so-called metaverse.It recently announced Microsoft Teams metaverse for meetings and is keen to transform Minecraft and other games it owns into more immersive 3D worlds.Its tie-up with the Greek government means people can tour the site remotely or in person with an augmented-reality mobile app. At the Olympic Museum in Athens they can use HoloLens headsets to overlay a digital version of the site.Microsoft's augmented reality smart glasses HoloLens use multiple sensors, advanced optics, and holograms, to display information, blend with the real world or simulate a virtual world.Among the 27 monuments to be preserved are the original Olympic Stadium, the temples of Zeus and Hera, and the workshop of the renowned sculptor Phidias.The buildings are as close as possible to their original forms and include historical timelines of the site's changes over time, and depictions of artefacts from each period.Through its AI for Cultural Heritage initiative, Microsoft partnered technology company Iconem, which specializes in digitising historic sites in 3D.Using on-the-ground cameras and drones to take hundreds of thousands of images of the site, Microsoft AI then processed the pictures to create models.’The cultural implications of this technology are endless. For the first time, visitors from around the world can virtually visit the birthplace of democracy, the ancient site of Olympia, and experience history first hand,' said the Greek Prime Minister, Kyriakos Mitsotakis.Brad Smith, the president of Microsoft said: The project to digitally preserve Ancient Olympia is a stunning achievement in cultural heritage, bringing together humanity and cutting-edge technology to benefit the world, and empower coming generations with new ways to explore our past.\""
      ],
      "execution_count": 29,
      "outputs": []
    },
    {
      "cell_type": "code",
      "metadata": {
        "id": "CxnPCImz_JjK"
      },
      "source": [
        "txt2=\"The Swedish band's long-awaited Voyage - their first album of new material for 40 years - shot straight to number one, earning them the biggest opening week of sales for any album in four years.Its 204,000 first-week chart sales is the highest since Ed Sheeran's Divide.Abba's last studio album, 1981's The Visitors, also topped the chart.The former Eurovision winners have since hit number one with their greatest hits collections, The Singles and Gold.‘We are so happy that our fans seem to have enjoyed our new album as much as we enjoyed making it,’ they told the Official Charts Company.‘We are absolutely over the moon to have an album at the top of the charts again.’The album is also the fastest-selling LP released by a group in eight years, since One Direction's Midnight Memories. Aside from Abba, Sheeran and One Direction, only Adele's 25 has breached the 200,000 barrier for first-week sales in the past decade.Voyage is also the fastest-selling vinyl release of the century, overtaking the Arctic Monkeys' Tranquillity Base Hotel & Casino from 2018.Only The Beatles and Elvis have now spent longer at number one than Agnetha, While it's clearly been a hit with music fans, the 10-track album Voyage divided opinion among critics.‘It's vintage Abba, on par with their classic 1970s run,’ declared Rolling Stone in a four-star review. But The Guardian's two-star write-up said it was a 'disappointment' that languishes in ‘often bafflingly retrograde settings’.Here we go again! Abba announce a new album and concerts - with a differenceOn Friday, Abba singer Anni-Frid Lyngstad told the BBC' don't be too sure' that their comeback album is their last, in her first interview about the reunion.‘I have learned to say never to say never,’ she told BBC Radio 2's Zoe Ball about the prospect of future projects.Elsewhere on Friday, another returning star, Adele, secured a fourth consecutive week at the top of the singles chart with Easy on Me.The ballad was the first track to be released from her hotly-anticipated fourth album, which will be released next Friday, 19 November.Easy on Me held off strong competition from Sheeran, who kept second and third spots on the singles rundown with Shivers and Bad Habits respectively, while his latest album = (Equals) was knocked into second place on the album chart by Abba.\""
      ],
      "execution_count": 30,
      "outputs": []
    },
    {
      "cell_type": "code",
      "metadata": {
        "id": "Qinnsdc2O8FL"
      },
      "source": [
        "def traitement(txt):\n",
        "  txt = txt.lower()\n",
        "  txt=contractions.fix(txt)\n",
        "  txt =  re.sub('(https?:\\/\\/)?([\\da-z\\.-]+)\\.([a-z\\.]{2,6})([\\/\\w \\.-]*)',' ', txt)\n",
        "  txt=stemming(txt)\n",
        "  txt=lemmatisation(txt)\n",
        "  txt=remove_stopwords(txt)\n",
        "\n",
        "  return txt"
      ],
      "execution_count": 31,
      "outputs": []
    },
    {
      "cell_type": "code",
      "metadata": {
        "colab": {
          "base_uri": "https://localhost:8080/"
        },
        "id": "0ommHk9JXl3Q",
        "outputId": "fd9eb861-a38e-4e6e-f1c4-46e4bc8a8094"
      },
      "source": [
        "txt=[txt1,txt2]\n",
        "labels = encoder.classes_\n",
        "print(labels)\n",
        "for text in txt: \n",
        "  t=[traitement(text)]\n",
        "  seq = tokenizer.texts_to_sequences(t)\n",
        "  padded = pad_sequences(seq, maxlen=128)\n",
        "  pred = model.predict(padded)\n",
        "  print(\"output softmax: \",pred)\n",
        "  print(\"category : \" ,labels[np.argmax(pred)])\n",
        "\n"
      ],
      "execution_count": 32,
      "outputs": [
        {
          "output_type": "stream",
          "name": "stdout",
          "text": [
            "['business' 'entertainment' 'politics' 'sport' 'tech']\n",
            "output softmax:  [[2.2199910e-04 6.5094936e-03 4.1092876e-03 3.7507911e-04 9.8878407e-01]]\n",
            "category :  tech\n",
            "output softmax:  [[6.8677902e-05 9.9657393e-01 6.6731113e-04 9.1805623e-04 1.7720315e-03]]\n",
            "category :  entertainment\n"
          ]
        }
      ]
    }
  ]
}